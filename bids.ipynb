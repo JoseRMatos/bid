{
 "cells": [
  {
   "cell_type": "code",
   "execution_count": 1,
   "metadata": {},
   "outputs": [],
   "source": [
    "import pandas as pd\n",
    "import numpy as np"
   ]
  },
  {
   "cell_type": "code",
   "execution_count": 2,
   "metadata": {},
   "outputs": [],
   "source": [
    "def clean_up(phrase):\n",
    "    phrase = phrase.lstrip()\n",
    "    phrase = phrase.rstrip()\n",
    "    phrase = phrase.upper()\n",
    "    return phrase"
   ]
  },
  {
   "cell_type": "code",
   "execution_count": 3,
   "metadata": {},
   "outputs": [
    {
     "output_type": "execute_result",
     "data": {
      "text/plain": "isbn           int64\ncost         float64\nsup_qty      float64\nWarehouse     object\ndtype: object"
     },
     "metadata": {},
     "execution_count": 3
    }
   ],
   "source": [
    "supplier = pd.read_excel('files/bids_input.xlsx',  sheet_name='lists')\n",
    "supplier.dtypes"
   ]
  },
  {
   "cell_type": "code",
   "execution_count": 4,
   "metadata": {},
   "outputs": [
    {
     "output_type": "execute_result",
     "data": {
      "text/plain": "            isbn  cost  sup_qty warehouse  level\n0  9781337118606  7.22     20.0        AW      2\n1  9781305655522  9.54     25.0        AW      2\n2  9781337407724  9.57     25.0        AW      2\n3  9781337407731  9.57     20.0        AW      2\n4  9781337407779  9.57      2.0        AW      2",
      "text/html": "<div>\n<style scoped>\n    .dataframe tbody tr th:only-of-type {\n        vertical-align: middle;\n    }\n\n    .dataframe tbody tr th {\n        vertical-align: top;\n    }\n\n    .dataframe thead th {\n        text-align: right;\n    }\n</style>\n<table border=\"1\" class=\"dataframe\">\n  <thead>\n    <tr style=\"text-align: right;\">\n      <th></th>\n      <th>isbn</th>\n      <th>cost</th>\n      <th>sup_qty</th>\n      <th>warehouse</th>\n      <th>level</th>\n    </tr>\n  </thead>\n  <tbody>\n    <tr>\n      <th>0</th>\n      <td>9781337118606</td>\n      <td>7.22</td>\n      <td>20.0</td>\n      <td>AW</td>\n      <td>2</td>\n    </tr>\n    <tr>\n      <th>1</th>\n      <td>9781305655522</td>\n      <td>9.54</td>\n      <td>25.0</td>\n      <td>AW</td>\n      <td>2</td>\n    </tr>\n    <tr>\n      <th>2</th>\n      <td>9781337407724</td>\n      <td>9.57</td>\n      <td>25.0</td>\n      <td>AW</td>\n      <td>2</td>\n    </tr>\n    <tr>\n      <th>3</th>\n      <td>9781337407731</td>\n      <td>9.57</td>\n      <td>20.0</td>\n      <td>AW</td>\n      <td>2</td>\n    </tr>\n    <tr>\n      <th>4</th>\n      <td>9781337407779</td>\n      <td>9.57</td>\n      <td>2.0</td>\n      <td>AW</td>\n      <td>2</td>\n    </tr>\n  </tbody>\n</table>\n</div>"
     },
     "metadata": {},
     "execution_count": 4
    }
   ],
   "source": [
    "#renaming headers\n",
    "supplier.columns = map(str.lower, supplier.columns)\n",
    "\n",
    "#Cleaning Values in columns\n",
    "supplier = supplier.fillna('N/A')\n",
    "supplier['isbn'] = supplier['isbn'].astype(str)\n",
    "for col in ['isbn','warehouse']:\n",
    "    supplier[col] = supplier.apply(lambda x: clean_up(x[col]), axis =1)\n",
    "supplier['cost'] = supplier['cost'].round(decimals=2)\n",
    "#adding level value to warehuse\n",
    "warehouse_level = {'TB': 1,'AW':2,'Transit':3,'FBA':4}\n",
    "supplier['level'] = supplier['warehouse'].map(warehouse_level)\n",
    "\n",
    "#Sorting the lists\n",
    "supplier = supplier.sort_values(['level','cost'], ascending=[True,True]).reset_index(drop=True)\n",
    "supplier.head()"
   ]
  },
  {
   "cell_type": "code",
   "execution_count": 5,
   "metadata": {},
   "outputs": [
    {
     "output_type": "execute_result",
     "data": {
      "text/plain": "isbn          int64\ncustomer     object\nprice       float64\ncust_qty      int64\ndtype: object"
     },
     "metadata": {},
     "execution_count": 5
    }
   ],
   "source": [
    "customer = pd.read_excel('files/bids_input.xlsx',  sheet_name='customers')\n",
    "customer.dtypes"
   ]
  },
  {
   "cell_type": "code",
   "execution_count": 6,
   "metadata": {},
   "outputs": [
    {
     "output_type": "execute_result",
     "data": {
      "text/plain": "            isbn  customer  sale_price  cust_qty\n0  9780323374620  BOOKBYTE      156.01         5\n1  9781564240071       NBC      151.47        13\n2  9781585286157  BOOKBYTE      146.06        12\n3  9781617210006  BOOKBYTE      141.55         4\n4  9781642428087  BOOKBYTE      141.25         8",
      "text/html": "<div>\n<style scoped>\n    .dataframe tbody tr th:only-of-type {\n        vertical-align: middle;\n    }\n\n    .dataframe tbody tr th {\n        vertical-align: top;\n    }\n\n    .dataframe thead th {\n        text-align: right;\n    }\n</style>\n<table border=\"1\" class=\"dataframe\">\n  <thead>\n    <tr style=\"text-align: right;\">\n      <th></th>\n      <th>isbn</th>\n      <th>customer</th>\n      <th>sale_price</th>\n      <th>cust_qty</th>\n    </tr>\n  </thead>\n  <tbody>\n    <tr>\n      <th>0</th>\n      <td>9780323374620</td>\n      <td>BOOKBYTE</td>\n      <td>156.01</td>\n      <td>5</td>\n    </tr>\n    <tr>\n      <th>1</th>\n      <td>9781564240071</td>\n      <td>NBC</td>\n      <td>151.47</td>\n      <td>13</td>\n    </tr>\n    <tr>\n      <th>2</th>\n      <td>9781585286157</td>\n      <td>BOOKBYTE</td>\n      <td>146.06</td>\n      <td>12</td>\n    </tr>\n    <tr>\n      <th>3</th>\n      <td>9781617210006</td>\n      <td>BOOKBYTE</td>\n      <td>141.55</td>\n      <td>4</td>\n    </tr>\n    <tr>\n      <th>4</th>\n      <td>9781642428087</td>\n      <td>BOOKBYTE</td>\n      <td>141.25</td>\n      <td>8</td>\n    </tr>\n  </tbody>\n</table>\n</div>"
     },
     "metadata": {},
     "execution_count": 6
    }
   ],
   "source": [
    "#Fix headers name\n",
    "customer.columns = map(str.lower, customer.columns)\n",
    "customer.rename(columns={'isbn13': 'isbn','price':'sale_price'}, inplace = True)\n",
    "\n",
    "#cleaning values in columns\n",
    "customer = customer.fillna('N/A')\n",
    "customer['isbn'] = customer['isbn'].astype(str)\n",
    "for col in ['isbn', 'customer']:\n",
    "    customer[col] = customer.apply(lambda x: clean_up(x[col]), axis =1)\n",
    "customer['sale_price'] = customer['sale_price'].round(decimals=2)\n",
    "customer.rename(columns={'isbn13': 'isbn'}, inplace = True)\n",
    "customer['cust_qty'] =customer['cust_qty'].round(decimals = 0)\n",
    "customer.head()"
   ]
  },
  {
   "cell_type": "code",
   "execution_count": 7,
   "metadata": {},
   "outputs": [
    {
     "output_type": "execute_result",
     "data": {
      "text/plain": "            isbn  customer  sale_price  cust_qty\n0  9780323374620  BOOKBYTE      156.01         5\n1  9781564240071       NBC      151.47        13\n2  9781585286157  BOOKBYTE      146.06        12\n3  9781617210006  BOOKBYTE      141.55         4\n4  9781642428087  BOOKBYTE      141.25         8",
      "text/html": "<div>\n<style scoped>\n    .dataframe tbody tr th:only-of-type {\n        vertical-align: middle;\n    }\n\n    .dataframe tbody tr th {\n        vertical-align: top;\n    }\n\n    .dataframe thead th {\n        text-align: right;\n    }\n</style>\n<table border=\"1\" class=\"dataframe\">\n  <thead>\n    <tr style=\"text-align: right;\">\n      <th></th>\n      <th>isbn</th>\n      <th>customer</th>\n      <th>sale_price</th>\n      <th>cust_qty</th>\n    </tr>\n  </thead>\n  <tbody>\n    <tr>\n      <th>0</th>\n      <td>9780323374620</td>\n      <td>BOOKBYTE</td>\n      <td>156.01</td>\n      <td>5</td>\n    </tr>\n    <tr>\n      <th>1</th>\n      <td>9781564240071</td>\n      <td>NBC</td>\n      <td>151.47</td>\n      <td>13</td>\n    </tr>\n    <tr>\n      <th>2</th>\n      <td>9781585286157</td>\n      <td>BOOKBYTE</td>\n      <td>146.06</td>\n      <td>12</td>\n    </tr>\n    <tr>\n      <th>3</th>\n      <td>9781617210006</td>\n      <td>BOOKBYTE</td>\n      <td>141.55</td>\n      <td>4</td>\n    </tr>\n    <tr>\n      <th>4</th>\n      <td>9781642428087</td>\n      <td>BOOKBYTE</td>\n      <td>141.25</td>\n      <td>8</td>\n    </tr>\n  </tbody>\n</table>\n</div>"
     },
     "metadata": {},
     "execution_count": 7
    }
   ],
   "source": [
    "customer = customer.sort_values(['sale_price'], ascending=False).reset_index(drop=True)\n",
    "customer.head()"
   ]
  },
  {
   "cell_type": "code",
   "execution_count": 8,
   "metadata": {},
   "outputs": [],
   "source": [
    "bid = pd.DataFrame()\n",
    "for cust_ind in list(customer[customer['isbn'].isin(list(supplier['isbn']))].index.values):\n",
    "    for su_ind in list(supplier[supplier['isbn'].isin(list(customer['isbn']))].index.values):\n",
    "        if (supplier.iloc[su_ind, :]['isbn'] == customer.iloc[cust_ind, :]['isbn']) and (supplier.iloc[su_ind, :]['sup_qty'] > 0) and (customer.iloc[cust_ind, :]['cust_qty'] > 0):\n",
    "            row_bid = pd.merge(supplier.iloc[[su_ind], :], customer.iloc[[cust_ind], :], how='left', on = 'isbn' )\n",
    "            row_bid['qty'] = row_bid[['sup_qty','cust_qty']].min( axis = 1, skipna = True)\n",
    "            row_bid['unit_diff'] = (customer.iloc[cust_ind, :]['sale_price'] - supplier.iloc[su_ind, :]['cost'])\n",
    "            supplier.loc[su_ind,'sup_qty'] = supplier.loc[su_ind,'sup_qty'] - row_bid.iloc[0,:]['qty']\n",
    "            customer.loc[cust_ind,'cust_qty'] = customer.loc[cust_ind,'cust_qty'] - row_bid.iloc[0,:]['qty']\n",
    "            bid = bid.append(row_bid)"
   ]
  },
  {
   "cell_type": "code",
   "execution_count": 19,
   "metadata": {},
   "outputs": [
    {
     "output_type": "execute_result",
     "data": {
      "text/plain": "            isbn   cost  sup_qty warehouse  level  customer  sale_price  \\\n0  9780205535859  93.67      1.0       FBA      4  BOOKBYTE      105.89   \n0  9780134602806  88.31      8.0       FBA      4  BOOKBYTE      103.86   \n0  9781319114671  96.74     16.0        AW      2  BOOKBYTE      100.48   \n0  9780134787961  78.25     16.0       FBA      4  BOOKBYTE       90.17   \n0  9780071717595  80.19     21.0       FBA      4  BOOKBYTE       87.77   \n\n   cust_qty  qty  unit_diff decision  bid_price  \n0      10.0  1.0      12.22      YES     105.89  \n0      14.0  8.0      15.55      YES     103.86  \n0       5.0  5.0       3.74      YES     100.48  \n0       6.0  6.0      11.92      YES      90.17  \n0       8.0  8.0       7.58      YES      87.77  ",
      "text/html": "<div>\n<style scoped>\n    .dataframe tbody tr th:only-of-type {\n        vertical-align: middle;\n    }\n\n    .dataframe tbody tr th {\n        vertical-align: top;\n    }\n\n    .dataframe thead th {\n        text-align: right;\n    }\n</style>\n<table border=\"1\" class=\"dataframe\">\n  <thead>\n    <tr style=\"text-align: right;\">\n      <th></th>\n      <th>isbn</th>\n      <th>cost</th>\n      <th>sup_qty</th>\n      <th>warehouse</th>\n      <th>level</th>\n      <th>customer</th>\n      <th>sale_price</th>\n      <th>cust_qty</th>\n      <th>qty</th>\n      <th>unit_diff</th>\n      <th>decision</th>\n      <th>bid_price</th>\n    </tr>\n  </thead>\n  <tbody>\n    <tr>\n      <th>0</th>\n      <td>9780205535859</td>\n      <td>93.67</td>\n      <td>1.0</td>\n      <td>FBA</td>\n      <td>4</td>\n      <td>BOOKBYTE</td>\n      <td>105.89</td>\n      <td>10.0</td>\n      <td>1.0</td>\n      <td>12.22</td>\n      <td>YES</td>\n      <td>105.89</td>\n    </tr>\n    <tr>\n      <th>0</th>\n      <td>9780134602806</td>\n      <td>88.31</td>\n      <td>8.0</td>\n      <td>FBA</td>\n      <td>4</td>\n      <td>BOOKBYTE</td>\n      <td>103.86</td>\n      <td>14.0</td>\n      <td>8.0</td>\n      <td>15.55</td>\n      <td>YES</td>\n      <td>103.86</td>\n    </tr>\n    <tr>\n      <th>0</th>\n      <td>9781319114671</td>\n      <td>96.74</td>\n      <td>16.0</td>\n      <td>AW</td>\n      <td>2</td>\n      <td>BOOKBYTE</td>\n      <td>100.48</td>\n      <td>5.0</td>\n      <td>5.0</td>\n      <td>3.74</td>\n      <td>YES</td>\n      <td>100.48</td>\n    </tr>\n    <tr>\n      <th>0</th>\n      <td>9780134787961</td>\n      <td>78.25</td>\n      <td>16.0</td>\n      <td>FBA</td>\n      <td>4</td>\n      <td>BOOKBYTE</td>\n      <td>90.17</td>\n      <td>6.0</td>\n      <td>6.0</td>\n      <td>11.92</td>\n      <td>YES</td>\n      <td>90.17</td>\n    </tr>\n    <tr>\n      <th>0</th>\n      <td>9780071717595</td>\n      <td>80.19</td>\n      <td>21.0</td>\n      <td>FBA</td>\n      <td>4</td>\n      <td>BOOKBYTE</td>\n      <td>87.77</td>\n      <td>8.0</td>\n      <td>8.0</td>\n      <td>7.58</td>\n      <td>YES</td>\n      <td>87.77</td>\n    </tr>\n  </tbody>\n</table>\n</div>"
     },
     "metadata": {},
     "execution_count": 19
    }
   ],
   "source": [
    "bid['decision'] = np.where(bid['unit_diff'] >= 0, 'YES', 'COUNTER')\n",
    "bid['bid_price'] = np.where(bid['unit_diff'] >= 0, bid['sale_price'],bid['cost'])\n",
    "bid = bid.sort_values(['decision', 'customer'], ascending = [False, True])\n",
    "bid.head()"
   ]
  },
  {
   "cell_type": "code",
   "execution_count": 20,
   "metadata": {},
   "outputs": [],
   "source": [
    "\n",
    "with pd.ExcelWriter('files/bids_results.xlsx') as writer:\n",
    "    bid.to_excel(writer,sheet_name = 'bid', index= False)\n",
    "    supplier.to_excel(writer, sheet_name = 'supplier', index= False)\n",
    "    customer.to_excel(writer, sheet_name = 'customer', index= False)\n"
   ]
  },
  {
   "cell_type": "code",
   "execution_count": 21,
   "metadata": {},
   "outputs": [
    {
     "output_type": "execute_result",
     "data": {
      "text/plain": "            isbn  customer decision  bid_price   qty\n0  9780060000387  BOOKBYTE  COUNTER      29.66  22.0\n1  9780060000387       NBC  COUNTER      29.66  31.0\n2  9780071390118       NBC  COUNTER      54.20   1.0\n3  9780071624947  BOOKBYTE  COUNTER      20.39  28.0\n4  9780071624978  BOOKBYTE  COUNTER      60.49   1.0",
      "text/html": "<div>\n<style scoped>\n    .dataframe tbody tr th:only-of-type {\n        vertical-align: middle;\n    }\n\n    .dataframe tbody tr th {\n        vertical-align: top;\n    }\n\n    .dataframe thead th {\n        text-align: right;\n    }\n</style>\n<table border=\"1\" class=\"dataframe\">\n  <thead>\n    <tr style=\"text-align: right;\">\n      <th></th>\n      <th>isbn</th>\n      <th>customer</th>\n      <th>decision</th>\n      <th>bid_price</th>\n      <th>qty</th>\n    </tr>\n  </thead>\n  <tbody>\n    <tr>\n      <th>0</th>\n      <td>9780060000387</td>\n      <td>BOOKBYTE</td>\n      <td>COUNTER</td>\n      <td>29.66</td>\n      <td>22.0</td>\n    </tr>\n    <tr>\n      <th>1</th>\n      <td>9780060000387</td>\n      <td>NBC</td>\n      <td>COUNTER</td>\n      <td>29.66</td>\n      <td>31.0</td>\n    </tr>\n    <tr>\n      <th>2</th>\n      <td>9780071390118</td>\n      <td>NBC</td>\n      <td>COUNTER</td>\n      <td>54.20</td>\n      <td>1.0</td>\n    </tr>\n    <tr>\n      <th>3</th>\n      <td>9780071624947</td>\n      <td>BOOKBYTE</td>\n      <td>COUNTER</td>\n      <td>20.39</td>\n      <td>28.0</td>\n    </tr>\n    <tr>\n      <th>4</th>\n      <td>9780071624978</td>\n      <td>BOOKBYTE</td>\n      <td>COUNTER</td>\n      <td>60.49</td>\n      <td>1.0</td>\n    </tr>\n  </tbody>\n</table>\n</div>"
     },
     "metadata": {},
     "execution_count": 21
    }
   ],
   "source": [
    "## Upload SO and Item Master\n",
    "customer_results = bid.groupby(['isbn','customer', 'decision'], as_index= False).agg({'bid_price': 'mean', 'qty':'sum'})\n",
    "customer_results.head()"
   ]
  },
  {
   "cell_type": "code",
   "execution_count": 22,
   "metadata": {
    "tags": []
   },
   "outputs": [],
   "source": [
    "with pd.ExcelWriter('files/bids_customer_results.xlsx') as writer:\n",
    "    for name in list(customer_results['customer'].unique()):\n",
    "        customer_results[customer_results['customer'] == name].to_excel(writer, sheet_name= name, index =False)"
   ]
  },
  {
   "cell_type": "code",
   "execution_count": 23,
   "metadata": {},
   "outputs": [],
   "source": [
    "so = bid.groupby(['isbn','customer', 'decision','warehouse'], as_index= False).agg({'bid_price': 'mean', 'qty':'sum'})\n",
    "inv_warehouse = bid.groupby(['isbn', 'decision','warehouse'], as_index= False).agg({'qty':'sum'})\n",
    "recalls = so[so['warehouse'] == 'FBA']\n",
    "recalls['customer'] = np.where((recalls['customer'] == 'BOOKBYTE') | (recalls['customer'] == 'BBA'), recalls['customer'], 'BXC')\n",
    "recalls = recalls.groupby(['isbn', 'decision', 'warehouse'], as_index= False).agg({'qty':'sum'})"
   ]
  },
  {
   "cell_type": "code",
   "execution_count": 25,
   "metadata": {},
   "outputs": [],
   "source": [
    "with pd.ExcelWriter('files/bids_operations.xlsx') as writer:\n",
    "    so.to_excel(writer, sheet_name= 'so', index =False)\n",
    "    inv_warehouse.to_excel(writer, sheet_name= 'inv_per_warehouse', index =False)\n",
    "    recalls.to_excel(writer, sheet_name= 'recalls', index =False)"
   ]
  },
  {
   "cell_type": "code",
   "execution_count": null,
   "metadata": {},
   "outputs": [],
   "source": []
  }
 ],
 "metadata": {
  "language_info": {
   "codemirror_mode": {
    "name": "ipython",
    "version": 3
   },
   "file_extension": ".py",
   "mimetype": "text/x-python",
   "name": "python",
   "nbconvert_exporter": "python",
   "pygments_lexer": "ipython3",
   "version": "3.7.6-final"
  },
  "orig_nbformat": 2,
  "kernelspec": {
   "name": "python3",
   "display_name": "Python 3"
  }
 },
 "nbformat": 4,
 "nbformat_minor": 2
}