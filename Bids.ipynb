{
 "cells": [
  {
   "cell_type": "code",
   "execution_count": null,
   "metadata": {},
   "outputs": [],
   "source": [
    "import pandas as pd\n",
    "import numpy as np"
   ]
  },
  {
   "cell_type": "code",
   "execution_count": null,
   "metadata": {},
   "outputs": [],
   "source": [
    "def clean_up(phrase):\n",
    "    phrase = phrase.lstrip()\n",
    "    phrase = phrase.rstrip()\n",
    "    phrase = phrase.upper()\n",
    "    return phrase"
   ]
  },
  {
   "cell_type": "code",
   "execution_count": null,
   "metadata": {},
   "outputs": [],
   "source": [
    "supplier = pd.read_excel('important_files/Bids.xlsx',  sheet_name='supplier')\n",
    "supplier.head()"
   ]
  },
  {
   "cell_type": "code",
   "execution_count": null,
   "metadata": {},
   "outputs": [],
   "source": [
    "supplier.dtypes\n"
   ]
  },
  {
   "cell_type": "code",
   "execution_count": null,
   "metadata": {},
   "outputs": [],
   "source": [
    "supplier.columns = map(str.lower, supplier.columns)\n",
    "supplier = supplier.fillna('N/A')\n",
    "supplier['isbn'] = supplier['isbn'].astype(str)\n",
    "supplier['isbn'] = supplier.apply(lambda x: clean_up(x['isbn']), axis =1)\n",
    "supplier = supplier.sort_values(['cost'], ascending=True).reset_index(drop=True)\n",
    "supplier.head()"
   ]
  },
  {
   "cell_type": "code",
   "execution_count": null,
   "metadata": {},
   "outputs": [],
   "source": [
    "customer = pd.read_excel('important_files/Bids.xlsx',  sheet_name='customer')\n",
    "customer.head()"
   ]
  },
  {
   "cell_type": "code",
   "execution_count": null,
   "metadata": {},
   "outputs": [],
   "source": [
    "customer.columns = map(str.lower, customer.columns)\n",
    "customer = customer.fillna('N/A')\n",
    "customer['isbn13'] = customer['isbn13'].astype(str)\n",
    "for col in ['isbn13', 'customer']:\n",
    "    customer[col] = customer.apply(lambda x: clean_up(x[col]), axis =1)\n",
    "customer.rename(columns={'isbn13': 'isbn'}, inplace = True)\n",
    "customer['cust_qty'] =customer['cust_qty'].round(decimals = 0)\n",
    "customer.head()"
   ]
  },
  {
   "cell_type": "code",
   "execution_count": null,
   "metadata": {},
   "outputs": [],
   "source": [
    "customer = customer.sort_values(['price'], ascending=False).reset_index(drop=True)\n",
    "customer.head()"
   ]
  },
  {
   "cell_type": "code",
   "execution_count": null,
   "metadata": {},
   "outputs": [],
   "source": []
  },
  {
   "cell_type": "code",
   "execution_count": null,
   "metadata": {},
   "outputs": [],
   "source": [
    "bid = pd.DataFrame()\n",
    "for cust_ind in list(customer[customer['isbn'].isin(list(supplier['isbn']))].index.values):\n",
    "    for su_ind in list(supplier[supplier['isbn'].isin(list(customer['isbn']))].index.values):\n",
    "        if (supplier.iloc[su_ind, :]['isbn'] == customer.iloc[cust_ind, :]['isbn']) and (supplier.iloc[su_ind, :]['sup_qty'] > 0) and (customer.iloc[cust_ind, :]['cust_qty'] > 0) and ((customer.iloc[cust_ind, :]['price'] - supplier.iloc[su_ind, :]['cost']) > 0 ):\n",
    "            row_bid = pd.merge(supplier.iloc[[su_ind], :], customer.iloc[[cust_ind], :], how='left', on = 'isbn' )\n",
    "            row_bid['allocate_qty'] = row_bid[['sup_qty','cust_qty']].min( axis = 1, skipna = True)\n",
    "            row_bid['unit_diff'] = (customer.iloc[cust_ind, :]['price'] - supplier.iloc[su_ind, :]['cost'])\n",
    "            supplier.loc[su_ind,'sup_qty'] = supplier.loc[su_ind,'sup_qty'] - row_bid.iloc[0,:]['allocate_qty']\n",
    "            customer.loc[cust_ind,'cust_qty'] = customer.loc[cust_ind,'cust_qty'] - row_bid.iloc[0,:]['allocate_qty']\n",
    "            bid = bid.append(row_bid)\n",
    "# row_bid.head()\n"
   ]
  },
  {
   "cell_type": "code",
   "execution_count": null,
   "metadata": {},
   "outputs": [],
   "source": [
    "bid.head()"
   ]
  },
  {
   "cell_type": "code",
   "execution_count": null,
   "metadata": {},
   "outputs": [],
   "source": [
    "\n",
    "with pd.ExcelWriter('bid/bid.xlsx') as writer:\n",
    "    bid.to_excel(writer,sheet_name = 'bid', index= False)\n",
    "    supplier.to_excel(writer, sheet_name = 'supplier', index= False)\n",
    "    customer.to_excel(writer, sheet_name = 'customer', index= False)\n"
   ]
  },
  {
   "cell_type": "code",
   "execution_count": null,
   "metadata": {},
   "outputs": [],
   "source": []
  }
 ],
 "metadata": {
  "language_info": {
   "codemirror_mode": {
    "name": "ipython",
    "version": 3
   },
   "file_extension": ".py",
   "mimetype": "text/x-python",
   "name": "python",
   "nbconvert_exporter": "python",
   "pygments_lexer": "ipython3",
   "version": "3.7.6-final"
  },
  "orig_nbformat": 2,
  "kernelspec": {
   "name": "python3",
   "display_name": "Python 3"
  }
 },
 "nbformat": 4,
 "nbformat_minor": 2
}